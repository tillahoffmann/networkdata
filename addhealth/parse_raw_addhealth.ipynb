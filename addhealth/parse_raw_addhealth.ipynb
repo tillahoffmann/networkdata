{
 "cells": [
  {
   "cell_type": "code",
   "execution_count": 1,
   "source": [
    "import networkx as nx\n",
    "import re\n",
    "import os\n",
    "import numpy as np\n",
    "from matplotlib import pyplot as plt\n",
    "import json"
   ],
   "outputs": [],
   "metadata": {}
  },
  {
   "cell_type": "code",
   "execution_count": 2,
   "source": [
    "def pop_match(lines, pattern, i=0):\n",
    "    \"\"\"\n",
    "    Pop a line if it matches the given pattern (and complain if it doesn't).\n",
    "    \"\"\"\n",
    "    line = lines.pop(i)\n",
    "    match = re.match(pattern, line)\n",
    "    assert match, f'\"{line}\" does not match \"{pattern}\"'\n",
    "    return match"
   ],
   "outputs": [],
   "metadata": {}
  },
  {
   "cell_type": "code",
   "execution_count": 3,
   "source": [
    "def parse_int(x):\n",
    "    if x == '?':\n",
    "        return None\n",
    "    return int(x)\n",
    "\n",
    "\n",
    "mappings = {\n",
    "    'sex': {\n",
    "        1: 'male',\n",
    "        2: 'female',\n",
    "        0: 'unknown',\n",
    "        None: 'unknown',\n",
    "    },\n",
    "    'race': {\n",
    "        1: 'white', \n",
    "        2: 'black', \n",
    "        3: 'hispanic', \n",
    "        4: 'asian', \n",
    "        5: 'mixed/other',\n",
    "        0: 'unknown',\n",
    "        None: 'unknown',\n",
    "    }\n",
    "}\n",
    "\n",
    "\n",
    "def recode(attributes, exclude=None):\n",
    "    \"\"\"\n",
    "    Recode values and return them.\n",
    "    \"\"\"\n",
    "    exclude = exclude or set()\n",
    "    return {\n",
    "        key: mappings[key][value] if key in mappings else value\n",
    "        for key, value in attributes.items() if key not in exclude\n",
    "    }\n",
    "\n",
    "\n",
    "def parse_community(community, parse_attributes=True, parse_edges=True):\n",
    "    graph = nx.DiGraph()\n",
    "\n",
    "    if parse_edges:\n",
    "        filename_edges = f'raw/comm{community}.dat'\n",
    "        with open(filename_edges) as fp:\n",
    "            lines = [line.strip().lower() for line in fp.readlines()]\n",
    "            pop_match(lines, \"dl\")\n",
    "            match = pop_match(lines, r'n=(\\d+)')\n",
    "            num_nodes = int(match.group(1))\n",
    "            pop_match(lines, 'format=edgelist1')\n",
    "            pop_match(lines, 'data[:;]')\n",
    "            # The edgelist1 format is such that `i` creates the tie and `j` receives it \n",
    "            # (cf. https://toreopsahl.com/tnet/software/one-mode-data-structure/). This is the same\n",
    "            # as expected by networkx.\n",
    "            edgelist = [(int(i), int(j), int(float(w))) for (i, j, w) in \n",
    "                        map(str.split, lines)]\n",
    "            graph.add_weighted_edges_from(edgelist)\n",
    "\n",
    "\n",
    "    if parse_attributes:\n",
    "        filename_attributes = f'raw/comm{community}_att.dat'\n",
    "        with open(filename_attributes) as fp:\n",
    "            lines = [line.strip().lower() for line in fp.readlines()]\n",
    "            pop_match(lines, 'dl')\n",
    "            match = pop_match(lines, r'nr=(\\d+),\\s*nc=(\\d+)')\n",
    "            num_rows = int(match.group(1))\n",
    "            assert num_rows == num_nodes\n",
    "            num_cols = int(match.group(2))\n",
    "            match = pop_match(lines, '^format = (edgelist1|fullmatrix)')\n",
    "            matrix_format = match.group(1)\n",
    "            pop_match(lines, 'column labels:')\n",
    "            # Get the columns.\n",
    "            columns = []\n",
    "            for _ in range(num_cols):\n",
    "                match = pop_match(lines, '\"(\\w+)\"')\n",
    "                columns.append(match.group(1))\n",
    "\n",
    "            # Skip until we get to the data.\n",
    "            while lines.pop(0) != 'data:':\n",
    "                pass\n",
    "\n",
    "            # Read the data depending on the format.\n",
    "            data = {}\n",
    "            if matrix_format == 'edgelist1':\n",
    "                for line in lines:\n",
    "                    if line == '!' or not line:\n",
    "                        continue\n",
    "                    vertex, column, value = map(int, line.split())\n",
    "                    column = columns[column - 1]\n",
    "                    data.setdefault(vertex, {})[column] = value\n",
    "            elif matrix_format == 'fullmatrix':\n",
    "                for vertex, line in enumerate(lines, 1):\n",
    "                    values = list(map(parse_int, line.split()))\n",
    "                    assert len(values) == len(columns)\n",
    "                    data[vertex] = dict(zip(columns, values))\n",
    "            else:\n",
    "                raise ValueError\n",
    "            assert len(data) == num_rows\n",
    "\n",
    "            # Recode the value to literals.\n",
    "            data = {key: recode(value) for key, value in data.items()}\n",
    "\n",
    "            # Add the nodes.\n",
    "            graph.add_nodes_from(data.items())\n",
    "\n",
    "    return graph\n",
    "\n",
    "parse_community(1)\n"
   ],
   "outputs": [
    {
     "output_type": "execute_result",
     "data": {
      "text/plain": [
       "<networkx.classes.digraph.DiGraph at 0x117eed430>"
      ]
     },
     "metadata": {},
     "execution_count": 3
    }
   ],
   "metadata": {}
  },
  {
   "cell_type": "code",
   "execution_count": 4,
   "source": [
    "# Parse all the datasets and save them as GraphML.\n",
    "os.makedirs('data', exist_ok=True)\n",
    "graphs = []\n",
    "for i in range(1, 85):\n",
    "    try:\n",
    "        # 48 does not have attributes; the file is missing online for some reason.\n",
    "        # 60 had to be manually modified to include the \"data:\" and \"format = edgelist1\" items.\n",
    "        graph = parse_community(i, parse_attributes=i != 48)\n",
    "        # Add the attributes for community 48 from a different file.\n",
    "        if i == 48:\n",
    "            with open('raw/comm48_att.json') as fp:\n",
    "                data = json.load(fp)\n",
    "            data = {node['node']: recode(node, exclude={'node'}) for node in data}\n",
    "            graph.add_nodes_from(data.items())\n",
    "                \n",
    "        nx.write_graphml_xml(graph, f'data/community_{i:02}.xml', named_key_ids=True)\n",
    "        graphs.append(graph)\n",
    "    except:\n",
    "        print(f'failed to parse community {i}')\n",
    "        raise"
   ],
   "outputs": [],
   "metadata": {}
  },
  {
   "cell_type": "code",
   "execution_count": null,
   "source": [
    "# Have a look at the correlation between degrees and grades.\n",
    "corrcoefs = []\n",
    "for i, graph in enumerate(graphs):\n",
    "    degrees, grades = np.transpose([(degree, graph.nodes[vertex]['grade']) \n",
    "                                    for (vertex, degree) in graph.in_degree\n",
    "                                    if graph.nodes[vertex].get('grade')])\n",
    "\n",
    "    # plt.scatter(grades, degrees)\n",
    "    corrcoefs.append(np.corrcoef(grades, degrees)[0, 1])\n",
    "\n",
    "plt.hist(corrcoefs, bins=20)\n",
    "np.mean(np.asarray(corrcoefs) >= 0)"
   ],
   "outputs": [
    {
     "output_type": "execute_result",
     "data": {
      "text/plain": [
       "0.5714285714285714"
      ]
     },
     "metadata": {},
     "execution_count": 6
    },
    {
     "output_type": "display_data",
     "data": {
      "text/plain": [
       "<Figure size 432x288 with 1 Axes>"
      ],
      "image/png": "[encoded data removed]"
     },
     "metadata": {
      "needs_background": "light"
     }
    }
   ],
   "metadata": {}
  }
 ],
 "metadata": {
  "orig_nbformat": 4,
  "language_info": {
   "name": "python",
   "version": "3.9.2",
   "mimetype": "text/x-python",
   "codemirror_mode": {
    "name": "ipython",
    "version": 3
   },
   "pygments_lexer": "ipython3",
   "nbconvert_exporter": "python",
   "file_extension": ".py"
  },
  "kernelspec": {
   "name": "python3",
   "display_name": "python39:pyenv"
  },
  "interpreter": {
   "hash": "d81e69f9026feaa42e0e3d6fdd9d57765d26adeef315c575addd4bbe29e751a1"
  }
 },
 "nbformat": 4,
 "nbformat_minor": 2
}